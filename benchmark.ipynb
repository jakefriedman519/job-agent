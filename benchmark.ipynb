{
 "cells": [
  {
   "cell_type": "code",
   "execution_count": 1,
   "id": "4558e0e1-7227-4051-80a5-0a7a781e13a2",
   "metadata": {},
   "outputs": [
    {
     "name": "stderr",
     "output_type": "stream",
     "text": [
      "[nltk_data] Downloading package stopwords to\n",
      "[nltk_data]     C:\\Users\\jakef\\AppData\\Roaming\\nltk_data...\n",
      "[nltk_data]   Package stopwords is already up-to-date!\n"
     ]
    }
   ],
   "source": [
    "import agent as job_agent"
   ]
  },
  {
   "cell_type": "code",
   "execution_count": 2,
   "id": "f5a18f5d-37db-4f2e-ac2b-870069faee80",
   "metadata": {},
   "outputs": [
    {
     "name": "stdout",
     "output_type": "stream",
     "text": [
      "Running benchmark: benchmarks\\benchmark1.yaml\n",
      "====================================\n",
      "\n",
      "Score: 1.0\n",
      "Running benchmark: benchmarks\\benchmark10.yaml\n",
      "====================================\n",
      "\n",
      "Score: 1.0\n",
      "Running benchmark: benchmarks\\benchmark11.yaml\n",
      "====================================\n",
      "\n",
      "Score: 1.0\n",
      "Running benchmark: benchmarks\\benchmark12.yaml\n",
      "====================================\n",
      "\n",
      "Score: 1.0\n",
      "Running benchmark: benchmarks\\benchmark13.yaml\n",
      "====================================\n",
      "\n",
      "Score: 1.0\n",
      "Running benchmark: benchmarks\\benchmark14.yaml\n",
      "====================================\n",
      "\n",
      "Score: 1.0\n",
      "Running benchmark: benchmarks\\benchmark15.yaml\n",
      "====================================\n",
      "\n",
      "Score: 1.0\n",
      "Running benchmark: benchmarks\\benchmark2.yaml\n",
      "====================================\n",
      "\n",
      "Score: 1.0\n",
      "Running benchmark: benchmarks\\benchmark3.yaml\n",
      "====================================\n",
      "\n",
      "Score: 1.0\n",
      "Running benchmark: benchmarks\\benchmark4.yaml\n",
      "====================================\n",
      "\n",
      "Score: 1.0\n",
      "Running benchmark: benchmarks\\benchmark5.yaml\n",
      "====================================\n",
      "\n",
      "Score: 1.0\n",
      "Running benchmark: benchmarks\\benchmark6.yaml\n",
      "====================================\n",
      "\n",
      "Score: 1.0\n",
      "Running benchmark: benchmarks\\benchmark7.yaml\n",
      "====================================\n",
      "\n",
      "Score: 1.0\n",
      "Running benchmark: benchmarks\\benchmark8.yaml\n",
      "====================================\n",
      "\n",
      "Score: 0.0\n",
      "Conversation: [{'role': 'system', 'content': \"\\nYou are a helpful job application agent. Respond to queries with JUST ONE Python block that\\nuses one of the following functions:\\n\\ndef find_jobs(self, query: str) -> List[Job]:\\n    ...\\n    \\n# job_id should be the ID of a Job\\ndef apply_to_job(self, job_id: int) -> Optional[int]:\\n    ...\\n\\nReturn the result in a variable called result. Don't use list comprehensions.\\nReturn the function used in a variable called tool.\\n\\nIf the user is not trying to apply to a job or find jobs, simply return your text response in result.\\nIf the user wants to apply to a job by ID, use apply_to_job(id)\\n\\nToday's date is September 1 2023.\\n\"}, {'role': 'user', 'content': 'Get me all the jobs in San Francisco'}, {'role': 'assistant', 'content': '\\n```python\\nresult = find_jobs(\"Get me all the jobs in San Francisco\")\\ntool = \"find_jobs\"\\n```\\n'}, {'role': 'user', 'content': 'Apply to the job with ID 1.'}, {'role': 'assistant', 'content': '\\n```python\\nresult = apply_to_job(1)\\ntool = \"apply_to_job\"\\n```\\n'}, {'role': 'user', 'content': 'Find me all the software engineer jobs'}, {'role': 'assistant', 'content': '\\n```python\\nresult = find_jobs(\"Find me all the software engineer jobs\")\\ntool = \"find_jobs\"\\n```\\n'}, {'role': 'user', 'content': 'Apply to the first one'}, {'role': 'assistant', 'content': '\\n```python\\nresult = apply_to_job(result[0].id)\\ntool = \"apply_to_job\"\\n```\\n'}, {'role': 'user', 'content': \"I'm a student studying computer science, what kinds of jobs should I look for?\"}, {'role': 'assistant', 'content': '\\n```python\\nresult = \"You probably want a job in software engineering or a related field!\"\\ntool = None\\n```\\n'}, {'role': 'user', 'content': 'Show jobs with salaries between $100,000 and $120,000 per year requiring \"Machine Learning\" skills.'}, {'role': 'assistant', 'content': '```python\\nresult = find_jobs(\"Show jobs with salaries between $100,000 and $120,000 per year requiring Machine Learning skills\")\\ntool = \"find_jobs\"\\n```'}]\n",
      "\n",
      "Running benchmark: benchmarks\\benchmark9.yaml\n",
      "====================================\n",
      "\n",
      "Score: 1.0\n"
     ]
    }
   ],
   "source": [
    "mean_score = job_agent.eval_all_benchmarks()"
   ]
  },
  {
   "cell_type": "code",
   "execution_count": 3,
   "outputs": [
    {
     "name": "stdout",
     "output_type": "stream",
     "text": [
      "Mean quantitative evaluation score: 0.9333333333333333\n"
     ]
    }
   ],
   "source": [
    "print(f'Mean quantitative evaluation score: {mean_score}')"
   ],
   "metadata": {
    "collapsed": false
   }
  }
 ],
 "metadata": {
  "kernelspec": {
   "display_name": "Python 3 (ipykernel)",
   "language": "python",
   "name": "python3"
  },
  "language_info": {
   "codemirror_mode": {
    "name": "ipython",
    "version": 3
   },
   "file_extension": ".py",
   "mimetype": "text/x-python",
   "name": "python",
   "nbconvert_exporter": "python",
   "pygments_lexer": "ipython3",
   "version": "3.10.6"
  }
 },
 "nbformat": 4,
 "nbformat_minor": 5
}
